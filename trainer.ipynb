{
 "cells": [
  {
   "cell_type": "code",
   "execution_count": null,
   "metadata": {},
   "outputs": [],
   "source": [
    "import numpy as np\n",
    "import matplotlib.pyplot as plt\n",
    "from models.model.logistic import Logistic"
   ]
  },
  {
   "cell_type": "code",
   "execution_count": null,
   "metadata": {},
   "outputs": [],
   "source": [
    "with open(\"models/dataset/concat.csv\") as f:\n",
    "    lines = [line.replace(\"\\n\", \"\") for line in f.readlines()]"
   ]
  },
  {
   "cell_type": "code",
   "execution_count": null,
   "metadata": {},
   "outputs": [],
   "source": [
    "train = {t[2:]: t[:2] for t in lines[:-100]}\n",
    "test = {t[2:]: t[:2] for t in lines[-100:]}\n",
    "\n",
    "train_sents = [k for k in train.keys()]\n",
    "train_signs = [int(v) for v in train.values()]\n",
    "test_sents = [k for k in test.keys()]\n",
    "test_signs = [int(v) for v in test.values()]"
   ]
  },
  {
   "cell_type": "code",
   "execution_count": null,
   "metadata": {},
   "outputs": [],
   "source": [
    "model = Logistic(train_sents, train_signs)\n",
    "model.train()"
   ]
  },
  {
   "cell_type": "code",
   "execution_count": null,
   "metadata": {},
   "outputs": [],
   "source": [
    "count = 0\n",
    "llr_true = []\n",
    "llr_false = []\n",
    "llb_true = []\n",
    "llb_false = []\n",
    "for t, sign in zip(test_sents, test_signs):\n",
    "    p = model.predict(t)\n",
    "    if p[0] == sign:\n",
    "        count += 1\n",
    "    if sign == 1 and p[0] == 1:\n",
    "        llr_true.append(p[2])\n",
    "    elif sign == 1 and p[0] == -1:\n",
    "        llr_false.append(p[2])\n",
    "    elif sign == -1 and p[0] == -1:\n",
    "        llb_true.append(p[2])\n",
    "    elif sign == -1 and p[0] == 1:\n",
    "        llb_false.append(p[2])"
   ]
  },
  {
   "cell_type": "code",
   "execution_count": null,
   "metadata": {},
   "outputs": [],
   "source": [
    "print(\"判定精度:\\t\" + str(count / len(test_signs)))\n",
    "print(\"学習回数:\\t\" + str(model.t))"
   ]
  },
  {
   "cell_type": "code",
   "execution_count": null,
   "metadata": {},
   "outputs": [],
   "source": [
    "array = np.array(llr_true + llr_false + llb_true + llb_false)\n",
    "colors = [\"orange\"] * len(llr_true) + [\"blue\"] * len(llr_false) + [\"blue\"] * len(llb_true) + [\"orange\"] * len(llb_false)\n",
    "markers = [\"o\"] * len(llr_true) + [\"*\"] * len(llr_false) + [\"o\"] * len(llb_true) + [\"*\"] * len(llb_false)\n",
    "for i in range(len(array)):\n",
    "    plt.scatter(array[i, 0], array[i, 1], c=colors[i], marker=markers[i])\n",
    "px = np.linspace(np.min(array[:, 0]), np.max(array[:, 0]), 100)\n",
    "py = -(model.w[0] * px) / model.w[1]\n",
    "plt.plot(px, py)"
   ]
  },
  {
   "cell_type": "code",
   "execution_count": null,
   "metadata": {},
   "outputs": [],
   "source": []
  }
 ],
 "metadata": {
  "kernelspec": {
   "display_name": "Python 3",
   "language": "python",
   "name": "python3"
  },
  "language_info": {
   "codemirror_mode": {
    "name": "ipython",
    "version": 3
   },
   "file_extension": ".py",
   "mimetype": "text/x-python",
   "name": "python",
   "nbconvert_exporter": "python",
   "pygments_lexer": "ipython3",
   "version": "3.6.0"
  }
 },
 "nbformat": 4,
 "nbformat_minor": 2
}
